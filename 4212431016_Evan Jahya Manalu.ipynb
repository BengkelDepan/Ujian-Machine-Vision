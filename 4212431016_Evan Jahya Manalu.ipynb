{
  "cells": [
    {
      "cell_type": "markdown",
      "metadata": {
        "id": "MF_g0deWfVNU"
      },
      "source": [
        "Image Clasification Support Vector Machine with HOG feature descriptor"
      ]
    },
    {
      "cell_type": "code",
      "execution_count": 1,
      "metadata": {
        "id": "_GVVWtPwbfgY"
      },
      "outputs": [],
      "source": [
        "import matplotlib.pyplot as plt\n",
        "from skimage.feature import hog\n",
        "from sklearn import datasets\n",
        "from mlxtend.data import loadlocal_mnist\n",
        "from sklearn import svm"
      ]
    },
    {
      "cell_type": "markdown",
      "metadata": {
        "id": "N2MBYcSQgEGF"
      },
      "source": [
        "1.Persiapan Dataset"
      ]
    },
    {
      "cell_type": "markdown",
      "metadata": {
        "id": "M_Qb8WEAgKDQ"
      },
      "source": [
        "Upload data"
      ]
    },
    {
      "cell_type": "code",
      "execution_count": 2,
      "metadata": {
        "id": "nA42vWQGb-05"
      },
      "outputs": [],
      "source": [
        "train_images, train_labels = loadlocal_mnist(images_path='/content/drive/MyDrive/Colab Notebooks/emnist-bymerge-train-images-idx3-ubyte',\n",
        "                                             labels_path='/content/drive/MyDrive/Colab Notebooks/emnist-bymerge-train-labels-idx1-ubyte')"
      ]
    },
    {
      "cell_type": "code",
      "execution_count": 3,
      "metadata": {
        "id": "tZ9BKYJCetDa"
      },
      "outputs": [],
      "source": [
        "test_images, test_labels = loadlocal_mnist(images_path='/content/drive/MyDrive/Colab Notebooks/emnist-bymerge-test-images-idx3-ubyte',\n",
        "                                             labels_path='/content/drive/MyDrive/Colab Notebooks/emnist-bymerge-test-labels-idx1-ubyte')"
      ]
    },
    {
      "cell_type": "markdown",
      "metadata": {
        "id": "6taA1VeMgVRK"
      },
      "source": [
        "Melihat isi dari dataset"
      ]
    },
    {
      "cell_type": "code",
      "execution_count": 4,
      "metadata": {
        "colab": {
          "base_uri": "https://localhost:8080/",
          "height": 448
        },
        "id": "V-E7Y2nhe3n0",
        "outputId": "eba69fbd-9621-4dfd-c776-daa62b8f02b7"
      },
      "outputs": [
        {
          "output_type": "execute_result",
          "data": {
            "text/plain": [
              "<matplotlib.image.AxesImage at 0x78297467af50>"
            ]
          },
          "metadata": {},
          "execution_count": 4
        },
        {
          "output_type": "display_data",
          "data": {
            "text/plain": [
              "<Figure size 640x480 with 1 Axes>"
            ],
            "image/png": "[encoded data removed]"
          },
          "metadata": {}
        }
      ],
      "source": [
        "plt.imshow(train_images[30].reshape(28,28), cmap='gray')"
      ]
    },
    {
      "cell_type": "code",
      "execution_count": 5,
      "metadata": {
        "colab": {
          "base_uri": "https://localhost:8080/",
          "height": 0
        },
        "id": "UL4VBeKxe8tn",
        "outputId": "5fdcdf89-419a-4e50-bfe5-a1517367da89"
      },
      "outputs": [
        {
          "output_type": "execute_result",
          "data": {
            "text/plain": [
              "8"
            ]
          },
          "metadata": {},
          "execution_count": 5
        }
      ],
      "source": [
        "train_labels[30]"
      ]
    },
    {
      "cell_type": "markdown",
      "metadata": {
        "id": "AkH-KjqxgbCc"
      },
      "source": [
        "Mendreskisikan data tersebut dengan HOG"
      ]
    },
    {
      "cell_type": "code",
      "execution_count": 6,
      "metadata": {
        "id": "J4bMKaRBfBQL"
      },
      "outputs": [],
      "source": [
        "feature, hog_img = hog(train_images[30].reshape(28,28), orientations=9, pixels_per_cell=(8, 8), cells_per_block=(2,2), visualize=True, block_norm='L2')"
      ]
    },
    {
      "cell_type": "code",
      "execution_count": 7,
      "metadata": {
        "colab": {
          "base_uri": "https://localhost:8080/",
          "height": 0
        },
        "id": "raVrlKGifLaR",
        "outputId": "773a1cec-f5b2-4c80-a322-9f4e905acd87"
      },
      "outputs": [
        {
          "output_type": "execute_result",
          "data": {
            "text/plain": [
              "(144,)"
            ]
          },
          "metadata": {},
          "execution_count": 7
        }
      ],
      "source": [
        "feature.shape"
      ]
    },
    {
      "cell_type": "code",
      "execution_count": 8,
      "metadata": {
        "colab": {
          "base_uri": "https://localhost:8080/",
          "height": 448
        },
        "id": "r1qQuhcefOzY",
        "outputId": "aa405a1d-5567-496e-d0c2-90c6e364c0f2"
      },
      "outputs": [
        {
          "output_type": "execute_result",
          "data": {
            "text/plain": [
              "<BarContainer object of 144 artists>"
            ]
          },
          "metadata": {},
          "execution_count": 8
        },
        {
          "output_type": "display_data",
          "data": {
            "text/plain": [
              "<Figure size 640x480 with 1 Axes>"
            ],
            "image/png": "[encoded data removed]"
          },
          "metadata": {}
        }
      ],
      "source": [
        "plt.bar(list(range(feature.shape[0])), feature)"
      ]
    },
    {
      "cell_type": "markdown",
      "metadata": {
        "id": "Ujz0dz8LnTUL"
      },
      "source": [
        "  2.Train data preparation"
      ]
    },
    {
      "cell_type": "markdown",
      "metadata": {
        "id": "BoYTsOISgo-B"
      },
      "source": [
        "Preprocessing train data untuk HOG Feature Extraction"
      ]
    },
    {
      "cell_type": "code",
      "execution_count": 9,
      "metadata": {
        "id": "86_3hr_afRaR"
      },
      "outputs": [],
      "source": [
        "n_dims = feature.shape[0]"
      ]
    },
    {
      "cell_type": "code",
      "execution_count": 10,
      "metadata": {
        "colab": {
          "base_uri": "https://localhost:8080/",
          "height": 0
        },
        "id": "2LbwhcNdgutJ",
        "outputId": "0bc32240-21d8-4598-c299-40c9fe9db5ea"
      },
      "outputs": [
        {
          "output_type": "execute_result",
          "data": {
            "text/plain": [
              "144"
            ]
          },
          "metadata": {},
          "execution_count": 10
        }
      ],
      "source": [
        "n_dims"
      ]
    },
    {
      "cell_type": "code",
      "execution_count": 11,
      "metadata": {
        "id": "3ezvR6KMgw8C"
      },
      "outputs": [],
      "source": [
        "n_samples = train_images.shape[0]"
      ]
    },
    {
      "cell_type": "code",
      "execution_count": 12,
      "metadata": {
        "colab": {
          "base_uri": "https://localhost:8080/",
          "height": 0
        },
        "id": "pSMjArsegy8E",
        "outputId": "c7f383d2-117b-4b4e-b00b-0005e60d1aba"
      },
      "outputs": [
        {
          "output_type": "execute_result",
          "data": {
            "text/plain": [
              "697932"
            ]
          },
          "metadata": {},
          "execution_count": 12
        }
      ],
      "source": [
        "n_samples"
      ]
    },
    {
      "cell_type": "markdown",
      "metadata": {
        "id": "TUxQ5_FRg4no"
      },
      "source": [
        "Membuat variable dari dataset train"
      ]
    },
    {
      "cell_type": "code",
      "execution_count": 13,
      "metadata": {
        "id": "lGEz_c7Qg07M"
      },
      "outputs": [],
      "source": [
        "X_train, y_train = datasets.make_classification(n_samples=n_samples, n_features=n_dims)"
      ]
    },
    {
      "cell_type": "markdown",
      "metadata": {
        "id": "DajJiGwGhLIe"
      },
      "source": [
        "Mendeskrisikan HOG feature semua image train dari dataset dan menempatkan nya dengan variable yang baru saja di buat"
      ]
    },
    {
      "cell_type": "code",
      "execution_count": 14,
      "metadata": {
        "id": "74sAOB7DhGo1"
      },
      "outputs": [],
      "source": [
        "for i in range(n_samples):\n",
        "    X_train[i], _ = hog(train_images[i].reshape(28,28), orientations=9, pixels_per_cell=(8, 8), cells_per_block=(2,2), visualize=True, block_norm='L2')\n",
        "    y_train[i] = train_labels[i]"
      ]
    },
    {
      "cell_type": "markdown",
      "metadata": {
        "id": "PbiJhPGZhsdb"
      },
      "source": [
        "2. Clasifikasi SVM"
      ]
    },
    {
      "cell_type": "markdown",
      "source": [
        "![SVM.png](data:image/png;base64,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)"
      ],
      "metadata": {
        "id": "2bqCLip40XP3"
      }
    },
    {
      "cell_type": "code",
      "execution_count": 15,
      "metadata": {
        "id": "7NlQ0DqnjJrZ"
      },
      "outputs": [],
      "source": [
        "clf = svm.SVC(kernel='linear')"
      ]
    },
    {
      "cell_type": "code",
      "execution_count": 16,
      "metadata": {
        "id": "J-GQp7foOtse",
        "colab": {
          "base_uri": "https://localhost:8080/",
          "height": 80
        },
        "outputId": "ed6ec187-256b-4d5f-b7e9-89cd76d18c19"
      },
      "outputs": [
        {
          "output_type": "execute_result",
          "data": {
            "text/plain": [
              "SVC(kernel='linear')"
            ],
            "text/html": [
              "<style>#sk-container-id-1 {\n",
              "  /* Definition of color scheme common for light and dark mode */\n",
              "  --sklearn-color-text: black;\n",
              "  --sklearn-color-line: gray;\n",
              "  /* Definition of color scheme for unfitted estimators */\n",
              "  --sklearn-color-unfitted-level-0: #fff5e6;\n",
              "  --sklearn-color-unfitted-level-1: #f6e4d2;\n",
              "  --sklearn-color-unfitted-level-2: #ffe0b3;\n",
              "  --sklearn-color-unfitted-level-3: chocolate;\n",
              "  /* Definition of color scheme for fitted estimators */\n",
              "  --sklearn-color-fitted-level-0: #f0f8ff;\n",
              "  --sklearn-color-fitted-level-1: #d4ebff;\n",
              "  --sklearn-color-fitted-level-2: #b3dbfd;\n",
              "  --sklearn-color-fitted-level-3: cornflowerblue;\n",
              "\n",
              "  /* Specific color for light theme */\n",
              "  --sklearn-color-text-on-default-background: var(--sg-text-color, var(--theme-code-foreground, var(--jp-content-font-color1, black)));\n",
              "  --sklearn-color-background: var(--sg-background-color, var(--theme-background, var(--jp-layout-color0, white)));\n",
              "  --sklearn-color-border-box: var(--sg-text-color, var(--theme-code-foreground, var(--jp-content-font-color1, black)));\n",
              "  --sklearn-color-icon: #696969;\n",
              "\n",
              "  @media (prefers-color-scheme: dark) {\n",
              "    /* Redefinition of color scheme for dark theme */\n",
              "    --sklearn-color-text-on-default-background: var(--sg-text-color, var(--theme-code-foreground, var(--jp-content-font-color1, white)));\n",
              "    --sklearn-color-background: var(--sg-background-color, var(--theme-background, var(--jp-layout-color0, #111)));\n",
              "    --sklearn-color-border-box: var(--sg-text-color, var(--theme-code-foreground, var(--jp-content-font-color1, white)));\n",
              "    --sklearn-color-icon: #878787;\n",
              "  }\n",
              "}\n",
              "\n",
              "#sk-container-id-1 {\n",
              "  color: var(--sklearn-color-text);\n",
              "}\n",
              "\n",
              "#sk-container-id-1 pre {\n",
              "  padding: 0;\n",
              "}\n",
              "\n",
              "#sk-container-id-1 input.sk-hidden--visually {\n",
              "  border: 0;\n",
              "  clip: rect(1px 1px 1px 1px);\n",
              "  clip: rect(1px, 1px, 1px, 1px);\n",
              "  height: 1px;\n",
              "  margin: -1px;\n",
              "  overflow: hidden;\n",
              "  padding: 0;\n",
              "  position: absolute;\n",
              "  width: 1px;\n",
              "}\n",
              "\n",
              "#sk-container-id-1 div.sk-dashed-wrapped {\n",
              "  border: 1px dashed var(--sklearn-color-line);\n",
              "  margin: 0 0.4em 0.5em 0.4em;\n",
              "  box-sizing: border-box;\n",
              "  padding-bottom: 0.4em;\n",
              "  background-color: var(--sklearn-color-background);\n",
              "}\n",
              "\n",
              "#sk-container-id-1 div.sk-container {\n",
              "  /* jupyter's `normalize.less` sets `[hidden] { display: none; }`\n",
              "     but bootstrap.min.css set `[hidden] { display: none !important; }`\n",
              "     so we also need the `!important` here to be able to override the\n",
              "     default hidden behavior on the sphinx rendered scikit-learn.org.\n",
              "     See: https://github.com/scikit-learn/scikit-learn/issues/21755 */\n",
              "  display: inline-block !important;\n",
              "  position: relative;\n",
              "}\n",
              "\n",
              "#sk-container-id-1 div.sk-text-repr-fallback {\n",
              "  display: none;\n",
              "}\n",
              "\n",
              "div.sk-parallel-item,\n",
              "div.sk-serial,\n",
              "div.sk-item {\n",
              "  /* draw centered vertical line to link estimators */\n",
              "  background-image: linear-gradient(var(--sklearn-color-text-on-default-background), var(--sklearn-color-text-on-default-background));\n",
              "  background-size: 2px 100%;\n",
              "  background-repeat: no-repeat;\n",
              "  background-position: center center;\n",
              "}\n",
              "\n",
              "/* Parallel-specific style estimator block */\n",
              "\n",
              "#sk-container-id-1 div.sk-parallel-item::after {\n",
              "  content: \"\";\n",
              "  width: 100%;\n",
              "  border-bottom: 2px solid var(--sklearn-color-text-on-default-background);\n",
              "  flex-grow: 1;\n",
              "}\n",
              "\n",
              "#sk-container-id-1 div.sk-parallel {\n",
              "  display: flex;\n",
              "  align-items: stretch;\n",
              "  justify-content: center;\n",
              "  background-color: var(--sklearn-color-background);\n",
              "  position: relative;\n",
              "}\n",
              "\n",
              "#sk-container-id-1 div.sk-parallel-item {\n",
              "  display: flex;\n",
              "  flex-direction: column;\n",
              "}\n",
              "\n",
              "#sk-container-id-1 div.sk-parallel-item:first-child::after {\n",
              "  align-self: flex-end;\n",
              "  width: 50%;\n",
              "}\n",
              "\n",
              "#sk-container-id-1 div.sk-parallel-item:last-child::after {\n",
              "  align-self: flex-start;\n",
              "  width: 50%;\n",
              "}\n",
              "\n",
              "#sk-container-id-1 div.sk-parallel-item:only-child::after {\n",
              "  width: 0;\n",
              "}\n",
              "\n",
              "/* Serial-specific style estimator block */\n",
              "\n",
              "#sk-container-id-1 div.sk-serial {\n",
              "  display: flex;\n",
              "  flex-direction: column;\n",
              "  align-items: center;\n",
              "  background-color: var(--sklearn-color-background);\n",
              "  padding-right: 1em;\n",
              "  padding-left: 1em;\n",
              "}\n",
              "\n",
              "\n",
              "/* Toggleable style: style used for estimator/Pipeline/ColumnTransformer box that is\n",
              "clickable and can be expanded/collapsed.\n",
              "- Pipeline and ColumnTransformer use this feature and define the default style\n",
              "- Estimators will overwrite some part of the style using the `sk-estimator` class\n",
              "*/\n",
              "\n",
              "/* Pipeline and ColumnTransformer style (default) */\n",
              "\n",
              "#sk-container-id-1 div.sk-toggleable {\n",
              "  /* Default theme specific background. It is overwritten whether we have a\n",
              "  specific estimator or a Pipeline/ColumnTransformer */\n",
              "  background-color: var(--sklearn-color-background);\n",
              "}\n",
              "\n",
              "/* Toggleable label */\n",
              "#sk-container-id-1 label.sk-toggleable__label {\n",
              "  cursor: pointer;\n",
              "  display: block;\n",
              "  width: 100%;\n",
              "  margin-bottom: 0;\n",
              "  padding: 0.5em;\n",
              "  box-sizing: border-box;\n",
              "  text-align: center;\n",
              "}\n",
              "\n",
              "#sk-container-id-1 label.sk-toggleable__label-arrow:before {\n",
              "  /* Arrow on the left of the label */\n",
              "  content: \"▸\";\n",
              "  float: left;\n",
              "  margin-right: 0.25em;\n",
              "  color: var(--sklearn-color-icon);\n",
              "}\n",
              "\n",
              "#sk-container-id-1 label.sk-toggleable__label-arrow:hover:before {\n",
              "  color: var(--sklearn-color-text);\n",
              "}\n",
              "\n",
              "/* Toggleable content - dropdown */\n",
              "\n",
              "#sk-container-id-1 div.sk-toggleable__content {\n",
              "  max-height: 0;\n",
              "  max-width: 0;\n",
              "  overflow: hidden;\n",
              "  text-align: left;\n",
              "  /* unfitted */\n",
              "  background-color: var(--sklearn-color-unfitted-level-0);\n",
              "}\n",
              "\n",
              "#sk-container-id-1 div.sk-toggleable__content.fitted {\n",
              "  /* fitted */\n",
              "  background-color: var(--sklearn-color-fitted-level-0);\n",
              "}\n",
              "\n",
              "#sk-container-id-1 div.sk-toggleable__content pre {\n",
              "  margin: 0.2em;\n",
              "  border-radius: 0.25em;\n",
              "  color: var(--sklearn-color-text);\n",
              "  /* unfitted */\n",
              "  background-color: var(--sklearn-color-unfitted-level-0);\n",
              "}\n",
              "\n",
              "#sk-container-id-1 div.sk-toggleable__content.fitted pre {\n",
              "  /* unfitted */\n",
              "  background-color: var(--sklearn-color-fitted-level-0);\n",
              "}\n",
              "\n",
              "#sk-container-id-1 input.sk-toggleable__control:checked~div.sk-toggleable__content {\n",
              "  /* Expand drop-down */\n",
              "  max-height: 200px;\n",
              "  max-width: 100%;\n",
              "  overflow: auto;\n",
              "}\n",
              "\n",
              "#sk-container-id-1 input.sk-toggleable__control:checked~label.sk-toggleable__label-arrow:before {\n",
              "  content: \"▾\";\n",
              "}\n",
              "\n",
              "/* Pipeline/ColumnTransformer-specific style */\n",
              "\n",
              "#sk-container-id-1 div.sk-label input.sk-toggleable__control:checked~label.sk-toggleable__label {\n",
              "  color: var(--sklearn-color-text);\n",
              "  background-color: var(--sklearn-color-unfitted-level-2);\n",
              "}\n",
              "\n",
              "#sk-container-id-1 div.sk-label.fitted input.sk-toggleable__control:checked~label.sk-toggleable__label {\n",
              "  background-color: var(--sklearn-color-fitted-level-2);\n",
              "}\n",
              "\n",
              "/* Estimator-specific style */\n",
              "\n",
              "/* Colorize estimator box */\n",
              "#sk-container-id-1 div.sk-estimator input.sk-toggleable__control:checked~label.sk-toggleable__label {\n",
              "  /* unfitted */\n",
              "  background-color: var(--sklearn-color-unfitted-level-2);\n",
              "}\n",
              "\n",
              "#sk-container-id-1 div.sk-estimator.fitted input.sk-toggleable__control:checked~label.sk-toggleable__label {\n",
              "  /* fitted */\n",
              "  background-color: var(--sklearn-color-fitted-level-2);\n",
              "}\n",
              "\n",
              "#sk-container-id-1 div.sk-label label.sk-toggleable__label,\n",
              "#sk-container-id-1 div.sk-label label {\n",
              "  /* The background is the default theme color */\n",
              "  color: var(--sklearn-color-text-on-default-background);\n",
              "}\n",
              "\n",
              "/* On hover, darken the color of the background */\n",
              "#sk-container-id-1 div.sk-label:hover label.sk-toggleable__label {\n",
              "  color: var(--sklearn-color-text);\n",
              "  background-color: var(--sklearn-color-unfitted-level-2);\n",
              "}\n",
              "\n",
              "/* Label box, darken color on hover, fitted */\n",
              "#sk-container-id-1 div.sk-label.fitted:hover label.sk-toggleable__label.fitted {\n",
              "  color: var(--sklearn-color-text);\n",
              "  background-color: var(--sklearn-color-fitted-level-2);\n",
              "}\n",
              "\n",
              "/* Estimator label */\n",
              "\n",
              "#sk-container-id-1 div.sk-label label {\n",
              "  font-family: monospace;\n",
              "  font-weight: bold;\n",
              "  display: inline-block;\n",
              "  line-height: 1.2em;\n",
              "}\n",
              "\n",
              "#sk-container-id-1 div.sk-label-container {\n",
              "  text-align: center;\n",
              "}\n",
              "\n",
              "/* Estimator-specific */\n",
              "#sk-container-id-1 div.sk-estimator {\n",
              "  font-family: monospace;\n",
              "  border: 1px dotted var(--sklearn-color-border-box);\n",
              "  border-radius: 0.25em;\n",
              "  box-sizing: border-box;\n",
              "  margin-bottom: 0.5em;\n",
              "  /* unfitted */\n",
              "  background-color: var(--sklearn-color-unfitted-level-0);\n",
              "}\n",
              "\n",
              "#sk-container-id-1 div.sk-estimator.fitted {\n",
              "  /* fitted */\n",
              "  background-color: var(--sklearn-color-fitted-level-0);\n",
              "}\n",
              "\n",
              "/* on hover */\n",
              "#sk-container-id-1 div.sk-estimator:hover {\n",
              "  /* unfitted */\n",
              "  background-color: var(--sklearn-color-unfitted-level-2);\n",
              "}\n",
              "\n",
              "#sk-container-id-1 div.sk-estimator.fitted:hover {\n",
              "  /* fitted */\n",
              "  background-color: var(--sklearn-color-fitted-level-2);\n",
              "}\n",
              "\n",
              "/* Specification for estimator info (e.g. \"i\" and \"?\") */\n",
              "\n",
              "/* Common style for \"i\" and \"?\" */\n",
              "\n",
              ".sk-estimator-doc-link,\n",
              "a:link.sk-estimator-doc-link,\n",
              "a:visited.sk-estimator-doc-link {\n",
              "  float: right;\n",
              "  font-size: smaller;\n",
              "  line-height: 1em;\n",
              "  font-family: monospace;\n",
              "  background-color: var(--sklearn-color-background);\n",
              "  border-radius: 1em;\n",
              "  height: 1em;\n",
              "  width: 1em;\n",
              "  text-decoration: none !important;\n",
              "  margin-left: 1ex;\n",
              "  /* unfitted */\n",
              "  border: var(--sklearn-color-unfitted-level-1) 1pt solid;\n",
              "  color: var(--sklearn-color-unfitted-level-1);\n",
              "}\n",
              "\n",
              ".sk-estimator-doc-link.fitted,\n",
              "a:link.sk-estimator-doc-link.fitted,\n",
              "a:visited.sk-estimator-doc-link.fitted {\n",
              "  /* fitted */\n",
              "  border: var(--sklearn-color-fitted-level-1) 1pt solid;\n",
              "  color: var(--sklearn-color-fitted-level-1);\n",
              "}\n",
              "\n",
              "/* On hover */\n",
              "div.sk-estimator:hover .sk-estimator-doc-link:hover,\n",
              ".sk-estimator-doc-link:hover,\n",
              "div.sk-label-container:hover .sk-estimator-doc-link:hover,\n",
              ".sk-estimator-doc-link:hover {\n",
              "  /* unfitted */\n",
              "  background-color: var(--sklearn-color-unfitted-level-3);\n",
              "  color: var(--sklearn-color-background);\n",
              "  text-decoration: none;\n",
              "}\n",
              "\n",
              "div.sk-estimator.fitted:hover .sk-estimator-doc-link.fitted:hover,\n",
              ".sk-estimator-doc-link.fitted:hover,\n",
              "div.sk-label-container:hover .sk-estimator-doc-link.fitted:hover,\n",
              ".sk-estimator-doc-link.fitted:hover {\n",
              "  /* fitted */\n",
              "  background-color: var(--sklearn-color-fitted-level-3);\n",
              "  color: var(--sklearn-color-background);\n",
              "  text-decoration: none;\n",
              "}\n",
              "\n",
              "/* Span, style for the box shown on hovering the info icon */\n",
              ".sk-estimator-doc-link span {\n",
              "  display: none;\n",
              "  z-index: 9999;\n",
              "  position: relative;\n",
              "  font-weight: normal;\n",
              "  right: .2ex;\n",
              "  padding: .5ex;\n",
              "  margin: .5ex;\n",
              "  width: min-content;\n",
              "  min-width: 20ex;\n",
              "  max-width: 50ex;\n",
              "  color: var(--sklearn-color-text);\n",
              "  box-shadow: 2pt 2pt 4pt #999;\n",
              "  /* unfitted */\n",
              "  background: var(--sklearn-color-unfitted-level-0);\n",
              "  border: .5pt solid var(--sklearn-color-unfitted-level-3);\n",
              "}\n",
              "\n",
              ".sk-estimator-doc-link.fitted span {\n",
              "  /* fitted */\n",
              "  background: var(--sklearn-color-fitted-level-0);\n",
              "  border: var(--sklearn-color-fitted-level-3);\n",
              "}\n",
              "\n",
              ".sk-estimator-doc-link:hover span {\n",
              "  display: block;\n",
              "}\n",
              "\n",
              "/* \"?\"-specific style due to the `<a>` HTML tag */\n",
              "\n",
              "#sk-container-id-1 a.estimator_doc_link {\n",
              "  float: right;\n",
              "  font-size: 1rem;\n",
              "  line-height: 1em;\n",
              "  font-family: monospace;\n",
              "  background-color: var(--sklearn-color-background);\n",
              "  border-radius: 1rem;\n",
              "  height: 1rem;\n",
              "  width: 1rem;\n",
              "  text-decoration: none;\n",
              "  /* unfitted */\n",
              "  color: var(--sklearn-color-unfitted-level-1);\n",
              "  border: var(--sklearn-color-unfitted-level-1) 1pt solid;\n",
              "}\n",
              "\n",
              "#sk-container-id-1 a.estimator_doc_link.fitted {\n",
              "  /* fitted */\n",
              "  border: var(--sklearn-color-fitted-level-1) 1pt solid;\n",
              "  color: var(--sklearn-color-fitted-level-1);\n",
              "}\n",
              "\n",
              "/* On hover */\n",
              "#sk-container-id-1 a.estimator_doc_link:hover {\n",
              "  /* unfitted */\n",
              "  background-color: var(--sklearn-color-unfitted-level-3);\n",
              "  color: var(--sklearn-color-background);\n",
              "  text-decoration: none;\n",
              "}\n",
              "\n",
              "#sk-container-id-1 a.estimator_doc_link.fitted:hover {\n",
              "  /* fitted */\n",
              "  background-color: var(--sklearn-color-fitted-level-3);\n",
              "}\n",
              "</style><div id=\"sk-container-id-1\" class=\"sk-top-container\"><div class=\"sk-text-repr-fallback\"><pre>SVC(kernel=&#x27;linear&#x27;)</pre><b>In a Jupyter environment, please rerun this cell to show the HTML representation or trust the notebook. <br />On GitHub, the HTML representation is unable to render, please try loading this page with nbviewer.org.</b></div><div class=\"sk-container\" hidden><div class=\"sk-item\"><div class=\"sk-estimator fitted sk-toggleable\"><input class=\"sk-toggleable__control sk-hidden--visually\" id=\"sk-estimator-id-1\" type=\"checkbox\" checked><label for=\"sk-estimator-id-1\" class=\"sk-toggleable__label fitted sk-toggleable__label-arrow fitted\">&nbsp;&nbsp;SVC<a class=\"sk-estimator-doc-link fitted\" rel=\"noreferrer\" target=\"_blank\" href=\"https://scikit-learn.org/1.5/modules/generated/sklearn.svm.SVC.html\">?<span>Documentation for SVC</span></a><span class=\"sk-estimator-doc-link fitted\">i<span>Fitted</span></span></label><div class=\"sk-toggleable__content fitted\"><pre>SVC(kernel=&#x27;linear&#x27;)</pre></div> </div></div></div></div>"
            ]
          },
          "metadata": {},
          "execution_count": 16
        }
      ],
      "source": [
        "clf.fit(X_train,y_train)"
      ]
    },
    {
      "cell_type": "markdown",
      "metadata": {
        "id": "zaq2EJ-TmqbU"
      },
      "source": [
        "3. Test data preparation"
      ]
    },
    {
      "cell_type": "markdown",
      "metadata": {
        "id": "sUZ5BncjlQxN"
      },
      "source": [
        "Preprocessing train data untuk HOG Feature Extraction"
      ]
    },
    {
      "cell_type": "code",
      "execution_count": 17,
      "metadata": {
        "id": "pt8OUK_Pmyf9"
      },
      "outputs": [],
      "source": [
        "n_dims = feature.shape[0]"
      ]
    },
    {
      "cell_type": "code",
      "execution_count": 18,
      "metadata": {
        "id": "ikttQuX1m3KR",
        "colab": {
          "base_uri": "https://localhost:8080/",
          "height": 0
        },
        "outputId": "fcd26ea0-63d4-49f0-ab4e-bb071fba5c0b"
      },
      "outputs": [
        {
          "data": {
            "text/plain": [
              "144"
            ]
          },
          "execution_count": 18,
          "metadata": {},
          "output_type": "execute_result"
        }
      ],
      "source": [
        "n_dims"
      ]
    },
    {
      "cell_type": "code",
      "execution_count": 19,
      "metadata": {
        "id": "_fXVihOSjgV5"
      },
      "outputs": [],
      "source": [
        "n_samples = test_images.shape[0]"
      ]
    },
    {
      "cell_type": "code",
      "execution_count": 20,
      "metadata": {
        "id": "76etviA9m5OC",
        "colab": {
          "base_uri": "https://localhost:8080/",
          "height": 0
        },
        "outputId": "e12de46c-5a61-4c1a-dad9-6205c42b7e27"
      },
      "outputs": [
        {
          "data": {
            "text/plain": [
              "116323"
            ]
          },
          "execution_count": 20,
          "metadata": {},
          "output_type": "execute_result"
        }
      ],
      "source": [
        "n_samples"
      ]
    },
    {
      "cell_type": "markdown",
      "metadata": {
        "id": "1_0vHkoUmYWk"
      },
      "source": [
        "Membuat variable dari dataset test"
      ]
    },
    {
      "cell_type": "code",
      "execution_count": 21,
      "metadata": {
        "id": "FgydaBagjtDR"
      },
      "outputs": [],
      "source": [
        "X_test, y_test = datasets.make_classification(n_samples=n_samples, n_features=n_dims)"
      ]
    },
    {
      "cell_type": "code",
      "execution_count": 22,
      "metadata": {
        "id": "y9-wOt_SoILS",
        "colab": {
          "base_uri": "https://localhost:8080/",
          "height": 0
        },
        "outputId": "0e71e1ce-b59d-49c4-eea7-d838d6d00451"
      },
      "outputs": [
        {
          "output_type": "execute_result",
          "data": {
            "text/plain": [
              "(116323, 144)"
            ]
          },
          "metadata": {},
          "execution_count": 22
        }
      ],
      "source": [
        "X_test.shape"
      ]
    },
    {
      "cell_type": "markdown",
      "metadata": {
        "id": "C_H9LWPJoMfl"
      },
      "source": [
        "Mendeskrisikan HOG feature semua image test dari dataset dan menempatkan nya dengan variable yang baru saja di buat"
      ]
    },
    {
      "cell_type": "code",
      "execution_count": 23,
      "metadata": {
        "id": "zjG29wGUjzlx"
      },
      "outputs": [],
      "source": [
        "for i in range(n_samples):\n",
        "    X_test[i], _ = hog(test_images[i].reshape(28,28), orientations=9, pixels_per_cell=(8, 8), cells_per_block=(2,2), visualize=True, block_norm='L2')\n",
        "    y_test[i] = test_labels[i]"
      ]
    },
    {
      "cell_type": "markdown",
      "metadata": {
        "id": "Q6JYwhojBjWo"
      },
      "source": [
        "Fitting Clasifikasi yang sudah di lakukan di atas"
      ]
    },
    {
      "cell_type": "code",
      "execution_count": null,
      "metadata": {
        "id": "nBc3tWFgBiIM"
      },
      "outputs": [],
      "source": [
        "clf.fit(X_test, y_test)"
      ]
    },
    {
      "cell_type": "markdown",
      "metadata": {
        "id": "sUIhOv9XoVi2"
      },
      "source": [
        "Mengubah categorical label menjadi one hot label (latihan mengubah data menjadi binary)"
      ]
    },
    {
      "cell_type": "code",
      "source": [
        "from sklearn.preprocessing import LabelBinarizer"
      ],
      "metadata": {
        "id": "c8EletYCeEqh"
      },
      "execution_count": 34,
      "outputs": []
    },
    {
      "cell_type": "code",
      "source": [
        "lb = LabelBinarizer()"
      ],
      "metadata": {
        "id": "Rvlx1mn-eHXh"
      },
      "execution_count": 35,
      "outputs": []
    },
    {
      "cell_type": "code",
      "source": [
        "lb.fit(y_test)"
      ],
      "metadata": {
        "colab": {
          "base_uri": "https://localhost:8080/",
          "height": 80
        },
        "id": "Iw2scLkqeJ5Q",
        "outputId": "f1aca5b7-3ffd-4eef-f4e3-a6f0a6eb7cbd"
      },
      "execution_count": 36,
      "outputs": [
        {
          "output_type": "execute_result",
          "data": {
            "text/plain": [
              "LabelBinarizer()"
            ],
            "text/html": [
              "<style>#sk-container-id-3 {\n",
              "  /* Definition of color scheme common for light and dark mode */\n",
              "  --sklearn-color-text: black;\n",
              "  --sklearn-color-line: gray;\n",
              "  /* Definition of color scheme for unfitted estimators */\n",
              "  --sklearn-color-unfitted-level-0: #fff5e6;\n",
              "  --sklearn-color-unfitted-level-1: #f6e4d2;\n",
              "  --sklearn-color-unfitted-level-2: #ffe0b3;\n",
              "  --sklearn-color-unfitted-level-3: chocolate;\n",
              "  /* Definition of color scheme for fitted estimators */\n",
              "  --sklearn-color-fitted-level-0: #f0f8ff;\n",
              "  --sklearn-color-fitted-level-1: #d4ebff;\n",
              "  --sklearn-color-fitted-level-2: #b3dbfd;\n",
              "  --sklearn-color-fitted-level-3: cornflowerblue;\n",
              "\n",
              "  /* Specific color for light theme */\n",
              "  --sklearn-color-text-on-default-background: var(--sg-text-color, var(--theme-code-foreground, var(--jp-content-font-color1, black)));\n",
              "  --sklearn-color-background: var(--sg-background-color, var(--theme-background, var(--jp-layout-color0, white)));\n",
              "  --sklearn-color-border-box: var(--sg-text-color, var(--theme-code-foreground, var(--jp-content-font-color1, black)));\n",
              "  --sklearn-color-icon: #696969;\n",
              "\n",
              "  @media (prefers-color-scheme: dark) {\n",
              "    /* Redefinition of color scheme for dark theme */\n",
              "    --sklearn-color-text-on-default-background: var(--sg-text-color, var(--theme-code-foreground, var(--jp-content-font-color1, white)));\n",
              "    --sklearn-color-background: var(--sg-background-color, var(--theme-background, var(--jp-layout-color0, #111)));\n",
              "    --sklearn-color-border-box: var(--sg-text-color, var(--theme-code-foreground, var(--jp-content-font-color1, white)));\n",
              "    --sklearn-color-icon: #878787;\n",
              "  }\n",
              "}\n",
              "\n",
              "#sk-container-id-3 {\n",
              "  color: var(--sklearn-color-text);\n",
              "}\n",
              "\n",
              "#sk-container-id-3 pre {\n",
              "  padding: 0;\n",
              "}\n",
              "\n",
              "#sk-container-id-3 input.sk-hidden--visually {\n",
              "  border: 0;\n",
              "  clip: rect(1px 1px 1px 1px);\n",
              "  clip: rect(1px, 1px, 1px, 1px);\n",
              "  height: 1px;\n",
              "  margin: -1px;\n",
              "  overflow: hidden;\n",
              "  padding: 0;\n",
              "  position: absolute;\n",
              "  width: 1px;\n",
              "}\n",
              "\n",
              "#sk-container-id-3 div.sk-dashed-wrapped {\n",
              "  border: 1px dashed var(--sklearn-color-line);\n",
              "  margin: 0 0.4em 0.5em 0.4em;\n",
              "  box-sizing: border-box;\n",
              "  padding-bottom: 0.4em;\n",
              "  background-color: var(--sklearn-color-background);\n",
              "}\n",
              "\n",
              "#sk-container-id-3 div.sk-container {\n",
              "  /* jupyter's `normalize.less` sets `[hidden] { display: none; }`\n",
              "     but bootstrap.min.css set `[hidden] { display: none !important; }`\n",
              "     so we also need the `!important` here to be able to override the\n",
              "     default hidden behavior on the sphinx rendered scikit-learn.org.\n",
              "     See: https://github.com/scikit-learn/scikit-learn/issues/21755 */\n",
              "  display: inline-block !important;\n",
              "  position: relative;\n",
              "}\n",
              "\n",
              "#sk-container-id-3 div.sk-text-repr-fallback {\n",
              "  display: none;\n",
              "}\n",
              "\n",
              "div.sk-parallel-item,\n",
              "div.sk-serial,\n",
              "div.sk-item {\n",
              "  /* draw centered vertical line to link estimators */\n",
              "  background-image: linear-gradient(var(--sklearn-color-text-on-default-background), var(--sklearn-color-text-on-default-background));\n",
              "  background-size: 2px 100%;\n",
              "  background-repeat: no-repeat;\n",
              "  background-position: center center;\n",
              "}\n",
              "\n",
              "/* Parallel-specific style estimator block */\n",
              "\n",
              "#sk-container-id-3 div.sk-parallel-item::after {\n",
              "  content: \"\";\n",
              "  width: 100%;\n",
              "  border-bottom: 2px solid var(--sklearn-color-text-on-default-background);\n",
              "  flex-grow: 1;\n",
              "}\n",
              "\n",
              "#sk-container-id-3 div.sk-parallel {\n",
              "  display: flex;\n",
              "  align-items: stretch;\n",
              "  justify-content: center;\n",
              "  background-color: var(--sklearn-color-background);\n",
              "  position: relative;\n",
              "}\n",
              "\n",
              "#sk-container-id-3 div.sk-parallel-item {\n",
              "  display: flex;\n",
              "  flex-direction: column;\n",
              "}\n",
              "\n",
              "#sk-container-id-3 div.sk-parallel-item:first-child::after {\n",
              "  align-self: flex-end;\n",
              "  width: 50%;\n",
              "}\n",
              "\n",
              "#sk-container-id-3 div.sk-parallel-item:last-child::after {\n",
              "  align-self: flex-start;\n",
              "  width: 50%;\n",
              "}\n",
              "\n",
              "#sk-container-id-3 div.sk-parallel-item:only-child::after {\n",
              "  width: 0;\n",
              "}\n",
              "\n",
              "/* Serial-specific style estimator block */\n",
              "\n",
              "#sk-container-id-3 div.sk-serial {\n",
              "  display: flex;\n",
              "  flex-direction: column;\n",
              "  align-items: center;\n",
              "  background-color: var(--sklearn-color-background);\n",
              "  padding-right: 1em;\n",
              "  padding-left: 1em;\n",
              "}\n",
              "\n",
              "\n",
              "/* Toggleable style: style used for estimator/Pipeline/ColumnTransformer box that is\n",
              "clickable and can be expanded/collapsed.\n",
              "- Pipeline and ColumnTransformer use this feature and define the default style\n",
              "- Estimators will overwrite some part of the style using the `sk-estimator` class\n",
              "*/\n",
              "\n",
              "/* Pipeline and ColumnTransformer style (default) */\n",
              "\n",
              "#sk-container-id-3 div.sk-toggleable {\n",
              "  /* Default theme specific background. It is overwritten whether we have a\n",
              "  specific estimator or a Pipeline/ColumnTransformer */\n",
              "  background-color: var(--sklearn-color-background);\n",
              "}\n",
              "\n",
              "/* Toggleable label */\n",
              "#sk-container-id-3 label.sk-toggleable__label {\n",
              "  cursor: pointer;\n",
              "  display: block;\n",
              "  width: 100%;\n",
              "  margin-bottom: 0;\n",
              "  padding: 0.5em;\n",
              "  box-sizing: border-box;\n",
              "  text-align: center;\n",
              "}\n",
              "\n",
              "#sk-container-id-3 label.sk-toggleable__label-arrow:before {\n",
              "  /* Arrow on the left of the label */\n",
              "  content: \"▸\";\n",
              "  float: left;\n",
              "  margin-right: 0.25em;\n",
              "  color: var(--sklearn-color-icon);\n",
              "}\n",
              "\n",
              "#sk-container-id-3 label.sk-toggleable__label-arrow:hover:before {\n",
              "  color: var(--sklearn-color-text);\n",
              "}\n",
              "\n",
              "/* Toggleable content - dropdown */\n",
              "\n",
              "#sk-container-id-3 div.sk-toggleable__content {\n",
              "  max-height: 0;\n",
              "  max-width: 0;\n",
              "  overflow: hidden;\n",
              "  text-align: left;\n",
              "  /* unfitted */\n",
              "  background-color: var(--sklearn-color-unfitted-level-0);\n",
              "}\n",
              "\n",
              "#sk-container-id-3 div.sk-toggleable__content.fitted {\n",
              "  /* fitted */\n",
              "  background-color: var(--sklearn-color-fitted-level-0);\n",
              "}\n",
              "\n",
              "#sk-container-id-3 div.sk-toggleable__content pre {\n",
              "  margin: 0.2em;\n",
              "  border-radius: 0.25em;\n",
              "  color: var(--sklearn-color-text);\n",
              "  /* unfitted */\n",
              "  background-color: var(--sklearn-color-unfitted-level-0);\n",
              "}\n",
              "\n",
              "#sk-container-id-3 div.sk-toggleable__content.fitted pre {\n",
              "  /* unfitted */\n",
              "  background-color: var(--sklearn-color-fitted-level-0);\n",
              "}\n",
              "\n",
              "#sk-container-id-3 input.sk-toggleable__control:checked~div.sk-toggleable__content {\n",
              "  /* Expand drop-down */\n",
              "  max-height: 200px;\n",
              "  max-width: 100%;\n",
              "  overflow: auto;\n",
              "}\n",
              "\n",
              "#sk-container-id-3 input.sk-toggleable__control:checked~label.sk-toggleable__label-arrow:before {\n",
              "  content: \"▾\";\n",
              "}\n",
              "\n",
              "/* Pipeline/ColumnTransformer-specific style */\n",
              "\n",
              "#sk-container-id-3 div.sk-label input.sk-toggleable__control:checked~label.sk-toggleable__label {\n",
              "  color: var(--sklearn-color-text);\n",
              "  background-color: var(--sklearn-color-unfitted-level-2);\n",
              "}\n",
              "\n",
              "#sk-container-id-3 div.sk-label.fitted input.sk-toggleable__control:checked~label.sk-toggleable__label {\n",
              "  background-color: var(--sklearn-color-fitted-level-2);\n",
              "}\n",
              "\n",
              "/* Estimator-specific style */\n",
              "\n",
              "/* Colorize estimator box */\n",
              "#sk-container-id-3 div.sk-estimator input.sk-toggleable__control:checked~label.sk-toggleable__label {\n",
              "  /* unfitted */\n",
              "  background-color: var(--sklearn-color-unfitted-level-2);\n",
              "}\n",
              "\n",
              "#sk-container-id-3 div.sk-estimator.fitted input.sk-toggleable__control:checked~label.sk-toggleable__label {\n",
              "  /* fitted */\n",
              "  background-color: var(--sklearn-color-fitted-level-2);\n",
              "}\n",
              "\n",
              "#sk-container-id-3 div.sk-label label.sk-toggleable__label,\n",
              "#sk-container-id-3 div.sk-label label {\n",
              "  /* The background is the default theme color */\n",
              "  color: var(--sklearn-color-text-on-default-background);\n",
              "}\n",
              "\n",
              "/* On hover, darken the color of the background */\n",
              "#sk-container-id-3 div.sk-label:hover label.sk-toggleable__label {\n",
              "  color: var(--sklearn-color-text);\n",
              "  background-color: var(--sklearn-color-unfitted-level-2);\n",
              "}\n",
              "\n",
              "/* Label box, darken color on hover, fitted */\n",
              "#sk-container-id-3 div.sk-label.fitted:hover label.sk-toggleable__label.fitted {\n",
              "  color: var(--sklearn-color-text);\n",
              "  background-color: var(--sklearn-color-fitted-level-2);\n",
              "}\n",
              "\n",
              "/* Estimator label */\n",
              "\n",
              "#sk-container-id-3 div.sk-label label {\n",
              "  font-family: monospace;\n",
              "  font-weight: bold;\n",
              "  display: inline-block;\n",
              "  line-height: 1.2em;\n",
              "}\n",
              "\n",
              "#sk-container-id-3 div.sk-label-container {\n",
              "  text-align: center;\n",
              "}\n",
              "\n",
              "/* Estimator-specific */\n",
              "#sk-container-id-3 div.sk-estimator {\n",
              "  font-family: monospace;\n",
              "  border: 1px dotted var(--sklearn-color-border-box);\n",
              "  border-radius: 0.25em;\n",
              "  box-sizing: border-box;\n",
              "  margin-bottom: 0.5em;\n",
              "  /* unfitted */\n",
              "  background-color: var(--sklearn-color-unfitted-level-0);\n",
              "}\n",
              "\n",
              "#sk-container-id-3 div.sk-estimator.fitted {\n",
              "  /* fitted */\n",
              "  background-color: var(--sklearn-color-fitted-level-0);\n",
              "}\n",
              "\n",
              "/* on hover */\n",
              "#sk-container-id-3 div.sk-estimator:hover {\n",
              "  /* unfitted */\n",
              "  background-color: var(--sklearn-color-unfitted-level-2);\n",
              "}\n",
              "\n",
              "#sk-container-id-3 div.sk-estimator.fitted:hover {\n",
              "  /* fitted */\n",
              "  background-color: var(--sklearn-color-fitted-level-2);\n",
              "}\n",
              "\n",
              "/* Specification for estimator info (e.g. \"i\" and \"?\") */\n",
              "\n",
              "/* Common style for \"i\" and \"?\" */\n",
              "\n",
              ".sk-estimator-doc-link,\n",
              "a:link.sk-estimator-doc-link,\n",
              "a:visited.sk-estimator-doc-link {\n",
              "  float: right;\n",
              "  font-size: smaller;\n",
              "  line-height: 1em;\n",
              "  font-family: monospace;\n",
              "  background-color: var(--sklearn-color-background);\n",
              "  border-radius: 1em;\n",
              "  height: 1em;\n",
              "  width: 1em;\n",
              "  text-decoration: none !important;\n",
              "  margin-left: 1ex;\n",
              "  /* unfitted */\n",
              "  border: var(--sklearn-color-unfitted-level-1) 1pt solid;\n",
              "  color: var(--sklearn-color-unfitted-level-1);\n",
              "}\n",
              "\n",
              ".sk-estimator-doc-link.fitted,\n",
              "a:link.sk-estimator-doc-link.fitted,\n",
              "a:visited.sk-estimator-doc-link.fitted {\n",
              "  /* fitted */\n",
              "  border: var(--sklearn-color-fitted-level-1) 1pt solid;\n",
              "  color: var(--sklearn-color-fitted-level-1);\n",
              "}\n",
              "\n",
              "/* On hover */\n",
              "div.sk-estimator:hover .sk-estimator-doc-link:hover,\n",
              ".sk-estimator-doc-link:hover,\n",
              "div.sk-label-container:hover .sk-estimator-doc-link:hover,\n",
              ".sk-estimator-doc-link:hover {\n",
              "  /* unfitted */\n",
              "  background-color: var(--sklearn-color-unfitted-level-3);\n",
              "  color: var(--sklearn-color-background);\n",
              "  text-decoration: none;\n",
              "}\n",
              "\n",
              "div.sk-estimator.fitted:hover .sk-estimator-doc-link.fitted:hover,\n",
              ".sk-estimator-doc-link.fitted:hover,\n",
              "div.sk-label-container:hover .sk-estimator-doc-link.fitted:hover,\n",
              ".sk-estimator-doc-link.fitted:hover {\n",
              "  /* fitted */\n",
              "  background-color: var(--sklearn-color-fitted-level-3);\n",
              "  color: var(--sklearn-color-background);\n",
              "  text-decoration: none;\n",
              "}\n",
              "\n",
              "/* Span, style for the box shown on hovering the info icon */\n",
              ".sk-estimator-doc-link span {\n",
              "  display: none;\n",
              "  z-index: 9999;\n",
              "  position: relative;\n",
              "  font-weight: normal;\n",
              "  right: .2ex;\n",
              "  padding: .5ex;\n",
              "  margin: .5ex;\n",
              "  width: min-content;\n",
              "  min-width: 20ex;\n",
              "  max-width: 50ex;\n",
              "  color: var(--sklearn-color-text);\n",
              "  box-shadow: 2pt 2pt 4pt #999;\n",
              "  /* unfitted */\n",
              "  background: var(--sklearn-color-unfitted-level-0);\n",
              "  border: .5pt solid var(--sklearn-color-unfitted-level-3);\n",
              "}\n",
              "\n",
              ".sk-estimator-doc-link.fitted span {\n",
              "  /* fitted */\n",
              "  background: var(--sklearn-color-fitted-level-0);\n",
              "  border: var(--sklearn-color-fitted-level-3);\n",
              "}\n",
              "\n",
              ".sk-estimator-doc-link:hover span {\n",
              "  display: block;\n",
              "}\n",
              "\n",
              "/* \"?\"-specific style due to the `<a>` HTML tag */\n",
              "\n",
              "#sk-container-id-3 a.estimator_doc_link {\n",
              "  float: right;\n",
              "  font-size: 1rem;\n",
              "  line-height: 1em;\n",
              "  font-family: monospace;\n",
              "  background-color: var(--sklearn-color-background);\n",
              "  border-radius: 1rem;\n",
              "  height: 1rem;\n",
              "  width: 1rem;\n",
              "  text-decoration: none;\n",
              "  /* unfitted */\n",
              "  color: var(--sklearn-color-unfitted-level-1);\n",
              "  border: var(--sklearn-color-unfitted-level-1) 1pt solid;\n",
              "}\n",
              "\n",
              "#sk-container-id-3 a.estimator_doc_link.fitted {\n",
              "  /* fitted */\n",
              "  border: var(--sklearn-color-fitted-level-1) 1pt solid;\n",
              "  color: var(--sklearn-color-fitted-level-1);\n",
              "}\n",
              "\n",
              "/* On hover */\n",
              "#sk-container-id-3 a.estimator_doc_link:hover {\n",
              "  /* unfitted */\n",
              "  background-color: var(--sklearn-color-unfitted-level-3);\n",
              "  color: var(--sklearn-color-background);\n",
              "  text-decoration: none;\n",
              "}\n",
              "\n",
              "#sk-container-id-3 a.estimator_doc_link.fitted:hover {\n",
              "  /* fitted */\n",
              "  background-color: var(--sklearn-color-fitted-level-3);\n",
              "}\n",
              "</style><div id=\"sk-container-id-3\" class=\"sk-top-container\"><div class=\"sk-text-repr-fallback\"><pre>LabelBinarizer()</pre><b>In a Jupyter environment, please rerun this cell to show the HTML representation or trust the notebook. <br />On GitHub, the HTML representation is unable to render, please try loading this page with nbviewer.org.</b></div><div class=\"sk-container\" hidden><div class=\"sk-item\"><div class=\"sk-estimator fitted sk-toggleable\"><input class=\"sk-toggleable__control sk-hidden--visually\" id=\"sk-estimator-id-3\" type=\"checkbox\" checked><label for=\"sk-estimator-id-3\" class=\"sk-toggleable__label fitted sk-toggleable__label-arrow fitted\">&nbsp;&nbsp;LabelBinarizer<a class=\"sk-estimator-doc-link fitted\" rel=\"noreferrer\" target=\"_blank\" href=\"https://scikit-learn.org/1.5/modules/generated/sklearn.preprocessing.LabelBinarizer.html\">?<span>Documentation for LabelBinarizer</span></a><span class=\"sk-estimator-doc-link fitted\">i<span>Fitted</span></span></label><div class=\"sk-toggleable__content fitted\"><pre>LabelBinarizer()</pre></div> </div></div></div></div>"
            ]
          },
          "metadata": {},
          "execution_count": 36
        }
      ]
    },
    {
      "cell_type": "code",
      "source": [
        "y_test"
      ],
      "metadata": {
        "colab": {
          "base_uri": "https://localhost:8080/"
        },
        "id": "ENwjcrihu1S0",
        "outputId": "28fadb0c-32f9-421a-ae4a-8bb3e377dff8"
      },
      "execution_count": 109,
      "outputs": [
        {
          "output_type": "execute_result",
          "data": {
            "text/plain": [
              "array([24, 22, 28, ...,  3,  3,  7])"
            ]
          },
          "metadata": {},
          "execution_count": 109
        }
      ]
    },
    {
      "cell_type": "code",
      "source": [
        "y_test.shape"
      ],
      "metadata": {
        "colab": {
          "base_uri": "https://localhost:8080/"
        },
        "id": "TTOmnw1ru6rW",
        "outputId": "2f3a6ea0-ced9-4df2-b4c3-c433aea0c00e"
      },
      "execution_count": 110,
      "outputs": [
        {
          "output_type": "execute_result",
          "data": {
            "text/plain": [
              "(116323,)"
            ]
          },
          "metadata": {},
          "execution_count": 110
        }
      ]
    },
    {
      "cell_type": "code",
      "source": [
        "y_test_one_hot = lb.transform(y_test)"
      ],
      "metadata": {
        "id": "jQyQn8-XePEr"
      },
      "execution_count": 101,
      "outputs": []
    },
    {
      "cell_type": "code",
      "source": [
        "y_test_one_hot[0]"
      ],
      "metadata": {
        "colab": {
          "base_uri": "https://localhost:8080/"
        },
        "id": "438kVK0BeUdd",
        "outputId": "ba1028c0-4bdf-47b8-d96e-d82f251fb134"
      },
      "execution_count": 102,
      "outputs": [
        {
          "output_type": "execute_result",
          "data": {
            "text/plain": [
              "array([0, 0, 0, 0, 0, 0, 0, 0, 0, 0, 0, 0, 0, 0, 0, 0, 0, 0, 0, 0, 0, 0,\n",
              "       0, 0, 1, 0, 0, 0, 0, 0, 0, 0, 0, 0, 0, 0, 0, 0, 0, 0, 0, 0, 0, 0,\n",
              "       0, 0, 0])"
            ]
          },
          "metadata": {},
          "execution_count": 102
        }
      ]
    },
    {
      "cell_type": "code",
      "source": [
        "y_convert = lb.inverse_transform(y_test_one_hot)"
      ],
      "metadata": {
        "id": "MrIZm5t8tQ6t"
      },
      "execution_count": 111,
      "outputs": []
    },
    {
      "cell_type": "code",
      "source": [
        "y_convert"
      ],
      "metadata": {
        "colab": {
          "base_uri": "https://localhost:8080/"
        },
        "id": "_8M8UlyEtyUr",
        "outputId": "d78b1a84-d3af-468e-8619-c87b7467c5aa"
      },
      "execution_count": 112,
      "outputs": [
        {
          "output_type": "execute_result",
          "data": {
            "text/plain": [
              "array([24, 22, 28, ...,  3,  3,  7])"
            ]
          },
          "metadata": {},
          "execution_count": 112
        }
      ]
    },
    {
      "cell_type": "markdown",
      "source": [
        "Memprediksi image yang sudah di clasifikasikan di atas"
      ],
      "metadata": {
        "id": "6nfch1fhwCgs"
      }
    },
    {
      "cell_type": "code",
      "source": [
        "y_pred_one_hot = clf.predict(X_test)"
      ],
      "metadata": {
        "id": "XHypqJmRgkYf"
      },
      "execution_count": 58,
      "outputs": []
    },
    {
      "cell_type": "code",
      "source": [
        "y_pred_one_hot"
      ],
      "metadata": {
        "colab": {
          "base_uri": "https://localhost:8080/"
        },
        "id": "yYIYBeENs0zA",
        "outputId": "ca1e925f-5a29-4c2e-8e1d-44c35d1ece15"
      },
      "execution_count": 104,
      "outputs": [
        {
          "output_type": "execute_result",
          "data": {
            "text/plain": [
              "array([24, 22, 28, ...,  3,  3,  7])"
            ]
          },
          "metadata": {},
          "execution_count": 104
        }
      ]
    },
    {
      "cell_type": "code",
      "source": [
        "y_pred_one_hot.shape"
      ],
      "metadata": {
        "colab": {
          "base_uri": "https://localhost:8080/"
        },
        "id": "f7IsCbRTt4Pz",
        "outputId": "320e23ca-6d89-41d1-bbfd-4554307e0ce4"
      },
      "execution_count": 107,
      "outputs": [
        {
          "output_type": "execute_result",
          "data": {
            "text/plain": [
              "(116323,)"
            ]
          },
          "metadata": {},
          "execution_count": 107
        }
      ]
    },
    {
      "cell_type": "markdown",
      "metadata": {
        "id": "58YKU4AvkDjw"
      },
      "source": [
        "Melihat image dari dataset test"
      ]
    },
    {
      "cell_type": "code",
      "execution_count": 47,
      "metadata": {
        "id": "fvjEYA12kHZE",
        "colab": {
          "base_uri": "https://localhost:8080/",
          "height": 448
        },
        "outputId": "1b170d38-2e1f-49a4-ba6b-3b005095e5be"
      },
      "outputs": [
        {
          "output_type": "execute_result",
          "data": {
            "text/plain": [
              "<matplotlib.image.AxesImage at 0x7829746499f0>"
            ]
          },
          "metadata": {},
          "execution_count": 47
        },
        {
          "output_type": "display_data",
          "data": {
            "text/plain": [
              "<Figure size 640x480 with 1 Axes>"
            ],
            "image/png": "[encoded data removed]"
          },
          "metadata": {}
        }
      ],
      "source": [
        "plt.imshow(test_images[30].reshape(28,28), cmap='gray')"
      ]
    },
    {
      "cell_type": "code",
      "execution_count": 51,
      "metadata": {
        "id": "nQb2ps0DkOJZ"
      },
      "outputs": [],
      "source": [
        "out_one_hot = clf.predict(X_test[30].reshape(1, n_dims))"
      ]
    },
    {
      "cell_type": "code",
      "execution_count": 52,
      "metadata": {
        "id": "i7toWvYzkRZw",
        "colab": {
          "base_uri": "https://localhost:8080/",
          "height": 0
        },
        "outputId": "6fa72e7f-bd47-4b15-a74a-bd34f4d6ba22"
      },
      "outputs": [
        {
          "output_type": "execute_result",
          "data": {
            "text/plain": [
              "array([3])"
            ]
          },
          "metadata": {},
          "execution_count": 52
        }
      ],
      "source": [
        "out_one_hot"
      ]
    },
    {
      "cell_type": "code",
      "source": [
        "b_predik=lb.transform(out_one_hot)"
      ],
      "metadata": {
        "id": "Ul7FQr1yxAE4"
      },
      "execution_count": 113,
      "outputs": []
    },
    {
      "cell_type": "code",
      "source": [
        "b_predik"
      ],
      "metadata": {
        "colab": {
          "base_uri": "https://localhost:8080/"
        },
        "id": "s6hOzmXWxIjx",
        "outputId": "b33f8ea5-b35a-4b66-b6df-228299e27302"
      },
      "execution_count": 114,
      "outputs": [
        {
          "output_type": "execute_result",
          "data": {
            "text/plain": [
              "array([[0, 0, 0, 1, 0, 0, 0, 0, 0, 0, 0, 0, 0, 0, 0, 0, 0, 0, 0, 0, 0, 0,\n",
              "        0, 0, 0, 0, 0, 0, 0, 0, 0, 0, 0, 0, 0, 0, 0, 0, 0, 0, 0, 0, 0, 0,\n",
              "        0, 0, 0]])"
            ]
          },
          "metadata": {},
          "execution_count": 114
        }
      ]
    },
    {
      "cell_type": "code",
      "source": [
        "b_convert = lb.inverse_transform(b_predik)"
      ],
      "metadata": {
        "id": "HF5zbLo_xQEs"
      },
      "execution_count": 115,
      "outputs": []
    },
    {
      "cell_type": "code",
      "source": [
        "b_convert"
      ],
      "metadata": {
        "colab": {
          "base_uri": "https://localhost:8080/"
        },
        "id": "jfyYGRE8xXbM",
        "outputId": "3034519b-0253-4b5f-88ed-e993a0805069"
      },
      "execution_count": 116,
      "outputs": [
        {
          "output_type": "execute_result",
          "data": {
            "text/plain": [
              "array([3])"
            ]
          },
          "metadata": {},
          "execution_count": 116
        }
      ]
    },
    {
      "cell_type": "markdown",
      "metadata": {
        "id": "Px-weamPkY6S"
      },
      "source": [
        "4. Leave-One-Out-Cross-Validation (LOOCV)  Evaluation Metrics"
      ]
    },
    {
      "cell_type": "markdown",
      "metadata": {
        "id": "vJcPF3drkdoK"
      },
      "source": [
        "Confussion Matrix"
      ]
    },
    {
      "cell_type": "markdown",
      "source": [
        "![Confusion Matrix.jpg](data:image/jpeg;base64,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)"
      ],
      "metadata": {
        "id": "XzWSfcrnyKyC"
      }
    },
    {
      "cell_type": "code",
      "execution_count": 59,
      "metadata": {
        "id": "W11pVPk1kefA"
      },
      "outputs": [],
      "source": [
        "from sklearn.metrics import confusion_matrix"
      ]
    },
    {
      "cell_type": "code",
      "execution_count": 60,
      "metadata": {
        "id": "W7jJjYIckity"
      },
      "outputs": [],
      "source": [
        "conf_mat = confusion_matrix(y_test, y_pred_one_hot)"
      ]
    },
    {
      "cell_type": "code",
      "execution_count": 61,
      "metadata": {
        "id": "cZA-e8bwkkWo",
        "colab": {
          "base_uri": "https://localhost:8080/",
          "height": 0
        },
        "outputId": "baf886c5-63ed-4f29-e5d1-d55e3385ef34"
      },
      "outputs": [
        {
          "output_type": "execute_result",
          "data": {
            "text/plain": [
              "array([[4343,    2,    2, ...,    0,    0,    0],\n",
              "       [   0, 6130,   21, ...,    0,    4,    6],\n",
              "       [   1,    1, 5491, ...,    2,    0,    5],\n",
              "       ...,\n",
              "       [   0,    4,    1, ...,   94,    1,    3],\n",
              "       [   2,    6,    1, ...,    0, 2207,   15],\n",
              "       [   1,    9,    5, ...,    0,   15, 2638]])"
            ]
          },
          "metadata": {},
          "execution_count": 61
        }
      ],
      "source": [
        "conf_mat"
      ]
    },
    {
      "cell_type": "code",
      "source": [
        "conf_mat.shape"
      ],
      "metadata": {
        "colab": {
          "base_uri": "https://localhost:8080/",
          "height": 0
        },
        "id": "O0dNIQTjnL3t",
        "outputId": "35558fe8-14c1-46c7-dd47-6b650ece61a5"
      },
      "execution_count": 85,
      "outputs": [
        {
          "output_type": "execute_result",
          "data": {
            "text/plain": [
              "(47, 47)"
            ]
          },
          "metadata": {},
          "execution_count": 85
        }
      ]
    },
    {
      "cell_type": "code",
      "execution_count": 62,
      "metadata": {
        "id": "RH0Gr8BNknlO"
      },
      "outputs": [],
      "source": [
        "from mlxtend.plotting import plot_confusion_matrix"
      ]
    },
    {
      "cell_type": "code",
      "execution_count": 86,
      "metadata": {
        "id": "Cr046y7XksuG"
      },
      "outputs": [],
      "source": [
        "class_names = ['0', '1', '2', '3', '4', '5', '6', '7', '8', '9','10','11','12', '13', '14', '15', '16', '17', '18', '19', '20', '21','22','23','24', '25', '26', '27', '28', '29','30','31','32', '33', '34', '35', '36', '37','38', '39', '40', '41','42','43','44', '45', '46']"
      ]
    },
    {
      "cell_type": "code",
      "execution_count": 87,
      "metadata": {
        "id": "eEd8fhQ3kuyv",
        "colab": {
          "base_uri": "https://localhost:8080/",
          "height": 461
        },
        "outputId": "71d9f9b6-4078-4193-97e4-ade0ea049aff"
      },
      "outputs": [
        {
          "output_type": "display_data",
          "data": {
            "text/plain": [
              "<Figure size 640x480 with 1 Axes>"
            ],
            "image/png": "[encoded data removed]"
          },
          "metadata": {}
        }
      ],
      "source": [
        "fig, ax = plot_confusion_matrix(conf_mat=conf_mat, class_names=class_names)"
      ]
    },
    {
      "cell_type": "markdown",
      "metadata": {
        "id": "asPHNa17kxen"
      },
      "source": [
        "Precission"
      ]
    },
    {
      "cell_type": "code",
      "execution_count": 88,
      "metadata": {
        "id": "xSMcmyV-kyVO"
      },
      "outputs": [],
      "source": [
        "from sklearn.metrics import precision_score"
      ]
    },
    {
      "cell_type": "code",
      "execution_count": 89,
      "metadata": {
        "id": "njHNUQenk2nZ"
      },
      "outputs": [],
      "source": [
        "precision = precision_score(y_test, y_pred_one_hot, average=None)"
      ]
    },
    {
      "cell_type": "code",
      "execution_count": 90,
      "metadata": {
        "id": "qjnMF7Tck40_",
        "colab": {
          "base_uri": "https://localhost:8080/",
          "height": 0
        },
        "outputId": "84ed2c4c-7155-45cd-8b1b-e6107680cb1b"
      },
      "outputs": [
        {
          "output_type": "execute_result",
          "data": {
            "text/plain": [
              "array([0.67976209, 0.62531878, 0.91531922, 0.96295667, 0.91968504,\n",
              "       0.9014564 , 0.93092543, 0.95727637, 0.8996126 , 0.89377049,\n",
              "       0.86772983, 0.85431655, 0.871337  , 0.88558692, 0.87732342,\n",
              "       0.71374253, 0.80979827, 0.90873786, 0.65878594, 0.93043478,\n",
              "       0.92812106, 0.82663848, 0.92769857, 0.89800285, 0.67152761,\n",
              "       0.93984109, 0.90519878, 0.87686567, 0.85839161, 0.90279465,\n",
              "       0.89097889, 0.90189613, 0.92940199, 0.94901506, 0.87475728,\n",
              "       0.85111663, 0.85803238, 0.87037037, 0.9421391 , 0.92874455,\n",
              "       0.5       , 0.72195122, 0.88758934, 0.89749066, 0.8245614 ,\n",
              "       0.92887205, 0.8988075 ])"
            ]
          },
          "metadata": {},
          "execution_count": 90
        }
      ],
      "source": [
        "precision"
      ]
    },
    {
      "cell_type": "markdown",
      "metadata": {
        "id": "C3TRRL6Xk7HN"
      },
      "source": [
        "Recall"
      ]
    },
    {
      "cell_type": "code",
      "execution_count": 91,
      "metadata": {
        "id": "kawd9P_kk8A-"
      },
      "outputs": [],
      "source": [
        "from sklearn.metrics import recall_score"
      ]
    },
    {
      "cell_type": "code",
      "execution_count": 92,
      "metadata": {
        "id": "kNAVCkkFlASp"
      },
      "outputs": [],
      "source": [
        "recall = recall_score(y_test, y_pred_one_hot, average=None)"
      ]
    },
    {
      "cell_type": "code",
      "execution_count": 93,
      "metadata": {
        "id": "zLwnbUPNlB_4",
        "colab": {
          "base_uri": "https://localhost:8080/",
          "height": 0
        },
        "outputId": "cb359296-8ab2-4fd5-aac2-83ceb970acfa"
      },
      "outputs": [
        {
          "output_type": "execute_result",
          "data": {
            "text/plain": [
              "array([0.75596171, 0.9578125 , 0.95247181, 0.97254162, 0.95598399,\n",
              "       0.89485543, 0.96647659, 0.97667291, 0.94447392, 0.96478499,\n",
              "       0.87429112, 0.72852761, 0.88265306, 0.81088435, 0.82325581,\n",
              "       0.86220472, 0.65348837, 0.8125    , 0.42726896, 0.82127193,\n",
              "       0.90976514, 0.23287671, 0.91834677, 0.93190229, 0.5989339 ,\n",
              "       0.91390728, 0.71325301, 0.84431138, 0.88150808, 0.91165644,\n",
              "       0.91811709, 0.89452167, 0.8866878 , 0.91304348, 0.7539749 ,\n",
              "       0.74162162, 0.82613909, 0.75643777, 0.94379391, 0.94244958,\n",
              "       0.00234742, 0.25385935, 0.88990228, 0.89797009, 0.17636023,\n",
              "       0.93319239, 0.88553206])"
            ]
          },
          "metadata": {},
          "execution_count": 93
        }
      ],
      "source": [
        "recall"
      ]
    },
    {
      "cell_type": "markdown",
      "metadata": {
        "id": "QZCqULcYlDt8"
      },
      "source": [
        "Accuracy"
      ]
    },
    {
      "cell_type": "code",
      "execution_count": 94,
      "metadata": {
        "id": "KrYzzIIplENJ"
      },
      "outputs": [],
      "source": [
        "from sklearn.metrics import accuracy_score"
      ]
    },
    {
      "cell_type": "code",
      "execution_count": 95,
      "metadata": {
        "id": "2XzV_mrolGaJ"
      },
      "outputs": [],
      "source": [
        "accuracy = accuracy_score(y_test, y_pred_one_hot)"
      ]
    },
    {
      "cell_type": "code",
      "execution_count": 96,
      "metadata": {
        "id": "Qpir3e6alJ36",
        "colab": {
          "base_uri": "https://localhost:8080/",
          "height": 0
        },
        "outputId": "9373a6a6-6d03-46d0-8dca-90a59e7315df"
      },
      "outputs": [
        {
          "output_type": "execute_result",
          "data": {
            "text/plain": [
              "0.8580848155566827"
            ]
          },
          "metadata": {},
          "execution_count": 96
        }
      ],
      "source": [
        "accuracy"
      ]
    },
    {
      "cell_type": "markdown",
      "metadata": {
        "id": "ZApPWvdulLiQ"
      },
      "source": [
        "F1-Score"
      ]
    },
    {
      "cell_type": "code",
      "execution_count": 97,
      "metadata": {
        "id": "O8bCHjY4lMBf"
      },
      "outputs": [],
      "source": [
        "from sklearn.metrics import f1_score"
      ]
    },
    {
      "cell_type": "code",
      "execution_count": 98,
      "metadata": {
        "id": "G6R53_UxlPse"
      },
      "outputs": [],
      "source": [
        "f1 = f1_score(y_test, y_pred_one_hot, average='macro')"
      ]
    },
    {
      "cell_type": "code",
      "execution_count": 99,
      "metadata": {
        "id": "UtNYoVv8lRRz",
        "colab": {
          "base_uri": "https://localhost:8080/",
          "height": 0
        },
        "outputId": "6e6c56ea-a2f5-402d-daaf-62a74d3ae764"
      },
      "outputs": [
        {
          "output_type": "execute_result",
          "data": {
            "text/plain": [
              "0.8111862661941349"
            ]
          },
          "metadata": {},
          "execution_count": 99
        }
      ],
      "source": [
        "f1"
      ]
    }
  ],
  "metadata": {
    "colab": {
      "provenance": []
    },
    "kernelspec": {
      "display_name": "Python 3",
      "name": "python3"
    },
    "language_info": {
      "name": "python"
    }
  },
  "nbformat": 4,
  "nbformat_minor": 0
}